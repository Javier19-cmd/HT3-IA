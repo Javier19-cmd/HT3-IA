{
 "cells": [
  {
   "attachments": {},
   "cell_type": "markdown",
   "metadata": {},
   "source": [
    "# Datos\n",
    "\n",
    "##### Javier Valle, Carnet 20159, Sección 20"
   ]
  },
  {
   "cell_type": "code",
   "execution_count": 27,
   "metadata": {},
   "outputs": [],
   "source": [
    "# Imports necesarios.\n",
    "import numpy as np"
   ]
  },
  {
   "attachments": {},
   "cell_type": "markdown",
   "metadata": {},
   "source": [
    "### Task 1.1: Leer el archivo CSV proporcionado (kc_house_data.csv dentro de lab4_dataset.zip) y almacenarlo en un p.array para ser trabajado en el notebook."
   ]
  },
  {
   "cell_type": "code",
   "execution_count": 28,
   "metadata": {},
   "outputs": [
    {
     "data": {
      "text/plain": [
       "array([1180., 2570.,  770., ..., 1020., 1600., 1020.])"
      ]
     },
     "execution_count": 28,
     "metadata": {},
     "output_type": "execute_result"
    }
   ],
   "source": [
    "# Cargando la data a un array de numpy.\n",
    "\n",
    "# Abriendo el csv y cargando los datos a un array.\n",
    "data = np.genfromtxt('data.csv', delimiter=',')\n",
    "\n",
    "# Imprimiendo la data.\n",
    "#print(data)\n",
    "\n",
    "# Cargando los datos a un np.array.\n",
    "data = np.array(data)\n",
    "\n",
    "#data\n",
    "\n",
    "\n",
    "# Columna de precios.\n",
    "\n",
    "# Imprimiendo los datos de la segunda columna.\n",
    "data[:,2] # Columna de precios.\n",
    "\n",
    "# Quitando los NaN de la segunda columna.\n",
    "data = data[~np.isnan(data[:,2])]\n",
    "\n",
    "data[:,2] # Columna de precios sin el NaN.\n",
    "\n",
    "# Columna de sqft_living.\n",
    "\n",
    "data[:,5] # Columna de sqft_living.\n",
    "\n",
    "# Quitando los NaN de la quinta columna.\n",
    "data = data[~np.isnan(data[:,5])]\n",
    "\n",
    "data[:,5] # Columna de sqft_living sin el NaN.\n"
   ]
  },
  {
   "attachments": {},
   "cell_type": "markdown",
   "metadata": {},
   "source": [
    "# Task 1.2: Ajustar un modelo polinomial (regresión lineal) en base al juego de datos cargado de forma matricial que relaciona las variables de precio con los pies cuadrados del espacio habitable interior de los apartamentos (price - sqft living)."
   ]
  },
  {
   "cell_type": "code",
   "execution_count": 78,
   "metadata": {},
   "outputs": [
    {
     "name": "stdout",
     "output_type": "stream",
     "text": [
      "Precios:  [[1180.]\n",
      " [2570.]\n",
      " [ 770.]\n",
      " ...\n",
      " [1020.]\n",
      " [1600.]\n",
      " [1020.]]\n",
      "Sqft_living [[221900.]\n",
      " [538000.]\n",
      " [180000.]\n",
      " ...\n",
      " [402101.]\n",
      " [400000.]\n",
      " [325000.]]\n",
      "ym:  [[1.88139935e-01]\n",
      " [5.66188682e+06]]\n",
      "xmr:  [[1.0000e+00 0.0000e+00]\n",
      " [1.0000e+00 2.1613e+04]]\n",
      "xm:  [[    0]\n",
      " [21613]]\n",
      "tf:  [[1.88139935e-01]\n",
      " [2.61966716e+02]]\n"
     ]
    },
    {
     "data": {
      "image/png": "[encoded data removed]",
      "text/plain": [
       "<Figure size 640x480 with 1 Axes>"
      ]
     },
     "metadata": {},
     "output_type": "display_data"
    }
   ],
   "source": [
    "# Haciendo imports.\n",
    "import matplotlib.pyplot as plt\n",
    "import numpy as np\n",
    "import quad as q\n",
    "import linreg as l\n",
    "\n",
    "# Manipulando los datos.\n",
    "\n",
    "# Precios.\n",
    "X = data[:,5]\n",
    "\n",
    "# Sqft_living.\n",
    "y = data[:,2]\n",
    "\n",
    "# Quitando los NaN de X y y.\n",
    "X = X[~np.isnan(X)]\n",
    "y = y[~np.isnan(y)]\n",
    "\n",
    "# Haciendo un reshape a X y y.\n",
    "X = X.reshape((-1, 1))\n",
    "y = y.reshape((-1, 1))\n",
    "\n",
    "print(\"Precios: \", X)\n",
    "print(\"Sqft_living\", y)\n",
    "\n",
    "# # Calculando Xr.\n",
    "# Xr = np.hstack((\n",
    "#     np.ones((len(X), 1)),\n",
    "#     X\n",
    "# ))\n",
    "\n",
    "# Agregando una columna de unos para hacer un bias en los cálculos.\n",
    "Xr = np.hstack((np.ones_like(X), X))\n",
    "\n",
    "# Calculando el theta inicial.\n",
    "to = np.random.rand(Xr.shape[1], 1) # Theta inicial.\n",
    "\n",
    "to = to[~np.isnan(to)]\n",
    "\n",
    "# Haciendo reshape a to.\n",
    "to = to.reshape((len(to), 1))\n",
    "\n",
    "# Calculando el costo y el gradiente.\n",
    "tf, costs = l.linear_regression(\n",
    "    Xr,\n",
    "    y.reshape((len(y), 1)),\n",
    "    to,\n",
    "    q.cost,\n",
    "    q.grad,\n",
    "    a=0.00000001,\n",
    "    n=50\n",
    ")\n",
    "\n",
    "xm = np.array([[0], [len(X)]])\n",
    "xmr = np.hstack((\n",
    "    np.ones((2, 1)),\n",
    "    xm\n",
    "))\n",
    "\n",
    "\n",
    "ym = xmr @ tf # Pendiente de la recta a utilizar.\n",
    "\n",
    "\n",
    "print(\"ym: \", ym)\n",
    "print(\"xmr: \", xmr)\n",
    "print(\"xm: \", xm)\n",
    "print(\"tf: \", tf)\n",
    "\n",
    "# Graficando los resultados.\n",
    "plt.plot(X, y, \"ro\")\n",
    "plt.plot(xm, ym)\n",
    "plt.show()"
   ]
  },
  {
   "attachments": {},
   "cell_type": "markdown",
   "metadata": {},
   "source": [
    "# Task 1.3: Utilice la implementación vectorial del algoritmo de regresión lineal (descenso del gradiente visto en clase)."
   ]
  },
  {
   "cell_type": "code",
   "execution_count": 79,
   "metadata": {},
   "outputs": [
    {
     "name": "stdout",
     "output_type": "stream",
     "text": [
      "Precios:  [[1180.]\n",
      " [2570.]\n",
      " [ 770.]\n",
      " ...\n",
      " [1020.]\n",
      " [1600.]\n",
      " [1020.]]\n",
      "Sqft_living [[221900.]\n",
      " [538000.]\n",
      " [180000.]\n",
      " ...\n",
      " [402101.]\n",
      " [400000.]\n",
      " [325000.]]\n",
      "ym:  [[-3.57691248e+04]\n",
      " [-7.73109843e+08]]\n",
      "xmr:  [[1.0000e+00 0.0000e+00]\n",
      " [1.0000e+00 2.1613e+04]]\n",
      "xm:  [[    0]\n",
      " [21613]]\n",
      "tf:  [[-35769.12483363]\n",
      " [-35768.93879653]]\n"
     ]
    },
    {
     "data": {
      "image/png": "[encoded data removed]",
      "text/plain": [
       "<Figure size 640x480 with 1 Axes>"
      ]
     },
     "metadata": {},
     "output_type": "display_data"
    }
   ],
   "source": [
    "# Haciendo imports.\n",
    "import matplotlib.pyplot as plt\n",
    "import numpy as np\n",
    "import quad as q\n",
    "import linregv as l\n",
    "\n",
    "# Manipulando los datos.\n",
    "\n",
    "# Precios.\n",
    "X = data[:,5]\n",
    "\n",
    "# Sqft_living.\n",
    "y = data[:,2]\n",
    "\n",
    "# Quitando los NaN de X y y.\n",
    "X = X[~np.isnan(X)]\n",
    "y = y[~np.isnan(y)]\n",
    "\n",
    "# Haciendo un reshape a X y y.\n",
    "X = X.reshape((-1, 1))\n",
    "y = y.reshape((-1, 1))\n",
    "\n",
    "print(\"Precios: \", X)\n",
    "print(\"Sqft_living\", y)\n",
    "\n",
    "# # Calculando Xr.\n",
    "# Xr = np.hstack((\n",
    "#     np.ones((len(X), 1)),\n",
    "#     X\n",
    "# ))\n",
    "\n",
    "# Agregando una columna de unos para hacer un bias en los cálculos.\n",
    "Xr = np.hstack((np.ones_like(X), X))\n",
    "\n",
    "# Calculando el theta inicial.\n",
    "to = np.random.rand(Xr.shape[1], 1) # Theta inicial.\n",
    "\n",
    "to = to[~np.isnan(to)]\n",
    "\n",
    "# Haciendo reshape a to.\n",
    "to = to.reshape((len(to), 1))\n",
    "\n",
    "# Calculando el costo y el gradiente.\n",
    "tf, costs = l.linear_regressionv(\n",
    "    Xr,\n",
    "    y.reshape((len(y), 1)),\n",
    "    to,\n",
    "    q.cost,\n",
    "    q.grad,\n",
    "    a=0.00000001,\n",
    "    n=50\n",
    ")\n",
    "\n",
    "xm = np.array([[0], [len(X)]])\n",
    "xmr = np.hstack((\n",
    "    np.ones((2, 1)),\n",
    "    xm\n",
    "))\n",
    "\n",
    "\n",
    "ym = xmr @ tf # Pendiente de la recta a utilizar.\n",
    "\n",
    "\n",
    "print(\"ym: \", ym)\n",
    "print(\"xmr: \", xmr)\n",
    "print(\"xm: \", xm)\n",
    "print(\"tf: \", tf)\n",
    "\n",
    "# Graficando los resultados.\n",
    "plt.plot(X, y, \"ro\")\n",
    "plt.plot(xm, ym)\n",
    "plt.show()"
   ]
  },
  {
   "attachments": {},
   "cell_type": "markdown",
   "metadata": {},
   "source": [
    "# Task 1.4: Usando cross-validation determine el grado del polinomio que mejor describe la nube de puntos (encuentre el mejor balance entre apego a los datos de entrenamiento y generalización para datos previamente no observados)."
   ]
  },
  {
   "cell_type": "code",
   "execution_count": 6,
   "metadata": {},
   "outputs": [
    {
     "ename": "MemoryError",
     "evalue": "Unable to allocate 22.7 GiB for an array with shape (201004, 15129) and data type float64",
     "output_type": "error",
     "traceback": [
      "\u001b[1;31m---------------------------------------------------------------------------\u001b[0m",
      "\u001b[1;31mMemoryError\u001b[0m                               Traceback (most recent call last)",
      "Cell \u001b[1;32mIn[6], line 50\u001b[0m\n\u001b[0;32m     47\u001b[0m             test_errors_k\u001b[39m.\u001b[39mappend(np\u001b[39m.\u001b[39mdot(X_val, beta)\u001b[39m*\u001b[39m\u001b[39m*\u001b[39m\u001b[39m2\u001b[39m)\n\u001b[0;32m     49\u001b[0m         train_errors[i] \u001b[39m=\u001b[39m np\u001b[39m.\u001b[39mmean(train_errors_k)\n\u001b[1;32m---> 50\u001b[0m         test_errors[i] \u001b[39m=\u001b[39m np\u001b[39m.\u001b[39;49mmean(test_errors_k)\n\u001b[0;32m     52\u001b[0m \u001b[39m# Seleccionando el grado de polinomio que minimiza el error de cross-validation.\u001b[39;00m\n\u001b[0;32m     53\u001b[0m best_degree \u001b[39m=\u001b[39m degrees(np\u001b[39m.\u001b[39margmin(test_errors))\n",
      "File \u001b[1;32m<__array_function__ internals>:200\u001b[0m, in \u001b[0;36mmean\u001b[1;34m(*args, **kwargs)\u001b[0m\n",
      "File \u001b[1;32m~\\AppData\\Local\\Packages\\PythonSoftwareFoundation.Python.3.10_qbz5n2kfra8p0\\LocalCache\\local-packages\\Python310\\site-packages\\numpy\\core\\fromnumeric.py:3464\u001b[0m, in \u001b[0;36mmean\u001b[1;34m(a, axis, dtype, out, keepdims, where)\u001b[0m\n\u001b[0;32m   3461\u001b[0m     \u001b[39melse\u001b[39;00m:\n\u001b[0;32m   3462\u001b[0m         \u001b[39mreturn\u001b[39;00m mean(axis\u001b[39m=\u001b[39maxis, dtype\u001b[39m=\u001b[39mdtype, out\u001b[39m=\u001b[39mout, \u001b[39m*\u001b[39m\u001b[39m*\u001b[39mkwargs)\n\u001b[1;32m-> 3464\u001b[0m \u001b[39mreturn\u001b[39;00m _methods\u001b[39m.\u001b[39m_mean(a, axis\u001b[39m=\u001b[39maxis, dtype\u001b[39m=\u001b[39mdtype,\n\u001b[0;32m   3465\u001b[0m                       out\u001b[39m=\u001b[39mout, \u001b[39m*\u001b[39m\u001b[39m*\u001b[39mkwargs)\n",
      "File \u001b[1;32m~\\AppData\\Local\\Packages\\PythonSoftwareFoundation.Python.3.10_qbz5n2kfra8p0\\LocalCache\\local-packages\\Python310\\site-packages\\numpy\\core\\_methods.py:165\u001b[0m, in \u001b[0;36m_mean\u001b[1;34m(a, axis, dtype, out, keepdims, where)\u001b[0m\n\u001b[0;32m    164\u001b[0m \u001b[39mdef\u001b[39;00m \u001b[39m_mean\u001b[39m(a, axis\u001b[39m=\u001b[39m\u001b[39mNone\u001b[39;00m, dtype\u001b[39m=\u001b[39m\u001b[39mNone\u001b[39;00m, out\u001b[39m=\u001b[39m\u001b[39mNone\u001b[39;00m, keepdims\u001b[39m=\u001b[39m\u001b[39mFalse\u001b[39;00m, \u001b[39m*\u001b[39m, where\u001b[39m=\u001b[39m\u001b[39mTrue\u001b[39;00m):\n\u001b[1;32m--> 165\u001b[0m     arr \u001b[39m=\u001b[39m asanyarray(a)\n\u001b[0;32m    167\u001b[0m     is_float16_result \u001b[39m=\u001b[39m \u001b[39mFalse\u001b[39;00m\n\u001b[0;32m    169\u001b[0m     rcount \u001b[39m=\u001b[39m _count_reduce_items(arr, axis, keepdims\u001b[39m=\u001b[39mkeepdims, where\u001b[39m=\u001b[39mwhere)\n",
      "\u001b[1;31mMemoryError\u001b[0m: Unable to allocate 22.7 GiB for an array with shape (201004, 15129) and data type float64"
     ]
    }
   ],
   "source": [
    "# Guardando los datos de prueba y entrenamiento en dos variables diferentes.\n",
    "\n",
    "# Precios.\n",
    "X = data[:,2]\n",
    "\n",
    "# Sqft_living.\n",
    "y = data[:,5]\n",
    "\n",
    "# Quitando los NaN de X y y.\n",
    "X = X[~np.isnan(X)]\n",
    "y = y[~np.isnan(y)]\n",
    "\n",
    "\n",
    "# Dividiendo los datos de prueba y entrenamiento.\n",
    "n_train = int(len(X) * 0.7) # Conjunto de entrenamiento.\n",
    "x_train, y_train = X[:n_train], y[:n_train]\n",
    "x_test, y_test = X[n_train:], y[n_train:]\n",
    "\n",
    "# Definiendo los grados de los polinomios que se quiere probar.\n",
    "degrees = range(1, 8)\n",
    "\n",
    "# Creando variabes para guardar los errores del cross-validation.\n",
    "train_errors = np.zeros(len(degrees))\n",
    "test_errors = np.zeros(len(degrees))\n",
    "\n",
    "# Realizando el cross validation.\n",
    "for i, degree in enumerate(degrees):\n",
    "    # Entrenar modelo de regresión polinómica\n",
    "    X_train = np.vander(x_train, degree + 1, increasing=True)\n",
    "    beta = np.linalg.lstsq(X_train, y_train, rcond=None)[0]\n",
    "\n",
    "    # Calculando los errores de cross-validation.\n",
    "    train_errors_k = []\n",
    "    test_errors_k = []\n",
    "\n",
    "    for k in range(n_train):\n",
    "\n",
    "        X_val = np.vander(x_train, degree + 1, increasing=True)\n",
    "        y_val = y_train[k]\n",
    "        #print(\"y_val\", y_val)\n",
    "        train_errors_k.append(np.dot(X_val, beta)**2)\n",
    "\n",
    "        for k in range(len(x_test)):\n",
    "            X_val = np.vander(x_train, degree + 1, increasing=True)\n",
    "            y_val = y_test[k]\n",
    "            #print(\"y_val\", y_val)\n",
    "            test_errors_k.append(np.dot(X_val, beta)**2)\n",
    "        \n",
    "        train_errors[i] = np.mean(train_errors_k)\n",
    "        test_errors[i] = np.mean(test_errors_k)\n",
    "\n",
    "# Seleccionando el grado de polinomio que minimiza el error de cross-validation.\n",
    "best_degree = degrees(np.argmin(test_errors))\n",
    "\n",
    "# Entrenando el modelo final de regresión polinómica.\n",
    "x = np.vander(X, best_degree + 1, increasing=True)\n",
    "beta = np.linalg.lstsq(X_train, y_train, rcond=None)[0]\n",
    "\n",
    "# Evaluando el rendimienot del modelo final usando datos de prueba.\n",
    "y_pred = np.dot(x, beta)\n",
    "mse = np.mean((y_pred - len(y)) ** 2)\n",
    "\n",
    "# Visualizando los datos.\n",
    "plt.scatter(x_train, y_train, color='blue', label='Entrenamiento')\n",
    "plt.scatter(x_test, y_test, color='green', label='Prueba')\n",
    "plt.plot(x, y_pred, color='red', label='Modelo final')\n",
    "plt.legend()\n",
    "plt.show()\n"
   ]
  }
 ],
 "metadata": {
  "kernelspec": {
   "display_name": "Python 3",
   "language": "python",
   "name": "python3"
  },
  "language_info": {
   "codemirror_mode": {
    "name": "ipython",
    "version": 3
   },
   "file_extension": ".py",
   "mimetype": "text/x-python",
   "name": "python",
   "nbconvert_exporter": "python",
   "pygments_lexer": "ipython3",
   "version": "3.10.10"
  },
  "orig_nbformat": 4
 },
 "nbformat": 4,
 "nbformat_minor": 2
}
