{
 "cells": [
  {
   "attachments": {},
   "cell_type": "markdown",
   "metadata": {},
   "source": [
    "# Datos\n",
    "\n",
    "##### Javier Valle, Carnet 20159, Sección 20"
   ]
  },
  {
   "cell_type": "code",
   "execution_count": 2,
   "metadata": {},
   "outputs": [],
   "source": [
    "# Imports necesarios.\n",
    "import numpy as np"
   ]
  },
  {
   "attachments": {},
   "cell_type": "markdown",
   "metadata": {},
   "source": [
    "### Task 1.1: Leer el archivo CSV proporcionado (kc_house_data.csv dentro de lab4_dataset.zip) y almacenarlo en un p.array para ser trabajado en el notebook."
   ]
  },
  {
   "cell_type": "code",
   "execution_count": 23,
   "metadata": {},
   "outputs": [
    {
     "data": {
      "text/plain": [
       "array([1180., 2570.,  770., ..., 1020., 1600., 1020.])"
      ]
     },
     "execution_count": 23,
     "metadata": {},
     "output_type": "execute_result"
    }
   ],
   "source": [
    "# Cargando la data a un array de numpy.\n",
    "\n",
    "# Abriendo el csv y cargando los datos a un array.\n",
    "data = np.genfromtxt('data.csv', delimiter=',')\n",
    "\n",
    "# Imprimiendo la data.\n",
    "#print(data)\n",
    "\n",
    "# Cargando los datos a un np.array.\n",
    "data = np.array(data)\n",
    "\n",
    "#data\n",
    "\n",
    "\n",
    "# Columna de precios.\n",
    "\n",
    "# Imprimiendo los datos de la segunda columna.\n",
    "data[:,2] # Columna de precios.\n",
    "\n",
    "# Quitando los NaN de la segunda columna.\n",
    "data = data[~np.isnan(data[:,2])]\n",
    "\n",
    "data[:,2] # Columna de precios sin el NaN.\n",
    "\n",
    "# Columna de sqft_living.\n",
    "\n",
    "data[:,5] # Columna de sqft_living.\n",
    "\n",
    "# Quitando los NaN de la quinta columna.\n",
    "data = data[~np.isnan(data[:,5])]\n",
    "\n",
    "data[:,5] # Columna de sqft_living sin el NaN.\n"
   ]
  }
 ],
 "metadata": {
  "kernelspec": {
   "display_name": "Python 3",
   "language": "python",
   "name": "python3"
  },
  "language_info": {
   "codemirror_mode": {
    "name": "ipython",
    "version": 3
   },
   "file_extension": ".py",
   "mimetype": "text/x-python",
   "name": "python",
   "nbconvert_exporter": "python",
   "pygments_lexer": "ipython3",
   "version": "3.10.10"
  },
  "orig_nbformat": 4
 },
 "nbformat": 4,
 "nbformat_minor": 2
}
